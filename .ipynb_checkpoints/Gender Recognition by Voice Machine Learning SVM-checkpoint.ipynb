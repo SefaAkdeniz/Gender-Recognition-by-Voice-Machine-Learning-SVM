{
 "cells": [
  {
   "cell_type": "markdown",
   "metadata": {},
   "source": [
    "# Gender Recognition by Voice Machine Learning SVM"
   ]
  },
  {
   "cell_type": "markdown",
   "metadata": {},
   "source": [
    "### Used Libraries\n",
    "1. NumPy (Numerical Python)\n",
    "2. Pandas\n",
    "3. Matplotlib\n",
    "4. Seaborn\n",
    "5. Sckit learn\n",
    "6. Missingno"
   ]
  },
  {
   "cell_type": "code",
   "execution_count": 1,
   "metadata": {
    "_cell_guid": "b1076dfc-b9ad-4769-8c92-a6c4dae69d19",
    "_uuid": "8f2839f25d086af736a60e9eeb907d3b93b6e0e5"
   },
   "outputs": [
    {
     "data": {
      "text/html": [
       "        <script type=\"text/javascript\">\n",
       "        window.PlotlyConfig = {MathJaxConfig: 'local'};\n",
       "        if (window.MathJax) {MathJax.Hub.Config({SVG: {font: \"STIX-Web\"}});}\n",
       "        if (typeof require !== 'undefined') {\n",
       "        require.undef(\"plotly\");\n",
       "        requirejs.config({\n",
       "            paths: {\n",
       "                'plotly': ['https://cdn.plot.ly/plotly-latest.min']\n",
       "            }\n",
       "        });\n",
       "        require(['plotly'], function(Plotly) {\n",
       "            window._Plotly = Plotly;\n",
       "        });\n",
       "        }\n",
       "        </script>\n",
       "        "
      ]
     },
     "metadata": {},
     "output_type": "display_data"
    }
   ],
   "source": [
    "import numpy as np # linear algebra\n",
    "import pandas as pd # data processing, CSV file I/O (e.g. pd.read_csv)\n",
    "\n",
    "# visualization tools\n",
    "import matplotlib.pyplot as plt\n",
    "import seaborn as sns\n",
    "import pandas_profiling as pp\n",
    "from plotly.offline import init_notebook_mode, iplot\n",
    "init_notebook_mode(connected=True)\n",
    "\n",
    "import os\n",
    "for dirname, _, filenames in os.walk('/kaggle/input'):\n",
    "    for filename in filenames:\n",
    "        print(os.path.join(dirname, filename))"
   ]
  },
  {
   "cell_type": "markdown",
   "metadata": {},
   "source": [
    "### Content:\n",
    "1. Pandas Profiling Report\n",
    "2. Missingo - Missing Data\n",
    "3. Seaborn - Heatmap\n",
    "4. Separating Features and Labels\n",
    "5. Converting String Value To int Type for Labels\n",
    "6. Data Standardisation\n",
    "7. Splitting Dataset into Training Set and Testing Set\n",
    "8. Build SVM Model with Default Hyperparameter\n",
    "9. Accuracy Score\n",
    "10. Confusion Matrix\n",
    "11. F1 Score"
   ]
  },
  {
   "cell_type": "markdown",
   "metadata": {},
   "source": [
    "### Reading Data"
   ]
  },
  {
   "cell_type": "code",
   "execution_count": 2,
   "metadata": {
    "_cell_guid": "79c7e3d0-c299-4dcb-8224-4455121ee9b0",
    "_uuid": "d629ff2d2480ee46fbb7e2d37f6b5fab8052498a"
   },
   "outputs": [],
   "source": [
    "df=pd.read_csv(\"voice.csv\")"
   ]
  },
  {
   "cell_type": "code",
   "execution_count": 3,
   "metadata": {},
   "outputs": [
    {
     "data": {
      "text/html": [
       "<div>\n",
       "<style scoped>\n",
       "    .dataframe tbody tr th:only-of-type {\n",
       "        vertical-align: middle;\n",
       "    }\n",
       "\n",
       "    .dataframe tbody tr th {\n",
       "        vertical-align: top;\n",
       "    }\n",
       "\n",
       "    .dataframe thead th {\n",
       "        text-align: right;\n",
       "    }\n",
       "</style>\n",
       "<table border=\"1\" class=\"dataframe\">\n",
       "  <thead>\n",
       "    <tr style=\"text-align: right;\">\n",
       "      <th></th>\n",
       "      <th>meanfreq</th>\n",
       "      <th>sd</th>\n",
       "      <th>median</th>\n",
       "      <th>Q25</th>\n",
       "      <th>Q75</th>\n",
       "      <th>IQR</th>\n",
       "      <th>skew</th>\n",
       "      <th>kurt</th>\n",
       "      <th>sp.ent</th>\n",
       "      <th>sfm</th>\n",
       "      <th>...</th>\n",
       "      <th>centroid</th>\n",
       "      <th>meanfun</th>\n",
       "      <th>minfun</th>\n",
       "      <th>maxfun</th>\n",
       "      <th>meandom</th>\n",
       "      <th>mindom</th>\n",
       "      <th>maxdom</th>\n",
       "      <th>dfrange</th>\n",
       "      <th>modindx</th>\n",
       "      <th>label</th>\n",
       "    </tr>\n",
       "  </thead>\n",
       "  <tbody>\n",
       "    <tr>\n",
       "      <th>3056</th>\n",
       "      <td>0.205813</td>\n",
       "      <td>0.042650</td>\n",
       "      <td>0.213778</td>\n",
       "      <td>0.198156</td>\n",
       "      <td>0.228381</td>\n",
       "      <td>0.030224</td>\n",
       "      <td>2.679823</td>\n",
       "      <td>10.054135</td>\n",
       "      <td>0.849874</td>\n",
       "      <td>0.261366</td>\n",
       "      <td>...</td>\n",
       "      <td>0.205813</td>\n",
       "      <td>0.206274</td>\n",
       "      <td>0.049505</td>\n",
       "      <td>0.243902</td>\n",
       "      <td>0.451172</td>\n",
       "      <td>0.195312</td>\n",
       "      <td>0.864258</td>\n",
       "      <td>0.668945</td>\n",
       "      <td>0.405283</td>\n",
       "      <td>female</td>\n",
       "    </tr>\n",
       "    <tr>\n",
       "      <th>3049</th>\n",
       "      <td>0.196159</td>\n",
       "      <td>0.044349</td>\n",
       "      <td>0.202957</td>\n",
       "      <td>0.192696</td>\n",
       "      <td>0.216348</td>\n",
       "      <td>0.023652</td>\n",
       "      <td>3.466938</td>\n",
       "      <td>17.390557</td>\n",
       "      <td>0.851043</td>\n",
       "      <td>0.293635</td>\n",
       "      <td>...</td>\n",
       "      <td>0.196159</td>\n",
       "      <td>0.198551</td>\n",
       "      <td>0.084746</td>\n",
       "      <td>0.232558</td>\n",
       "      <td>0.442708</td>\n",
       "      <td>0.195312</td>\n",
       "      <td>0.820312</td>\n",
       "      <td>0.625000</td>\n",
       "      <td>0.572368</td>\n",
       "      <td>female</td>\n",
       "    </tr>\n",
       "    <tr>\n",
       "      <th>1287</th>\n",
       "      <td>0.183706</td>\n",
       "      <td>0.064713</td>\n",
       "      <td>0.181856</td>\n",
       "      <td>0.131701</td>\n",
       "      <td>0.246804</td>\n",
       "      <td>0.115103</td>\n",
       "      <td>1.439254</td>\n",
       "      <td>4.996871</td>\n",
       "      <td>0.933255</td>\n",
       "      <td>0.516996</td>\n",
       "      <td>...</td>\n",
       "      <td>0.183706</td>\n",
       "      <td>0.130354</td>\n",
       "      <td>0.046921</td>\n",
       "      <td>0.279070</td>\n",
       "      <td>1.363511</td>\n",
       "      <td>0.023438</td>\n",
       "      <td>6.843750</td>\n",
       "      <td>6.820312</td>\n",
       "      <td>0.155708</td>\n",
       "      <td>male</td>\n",
       "    </tr>\n",
       "    <tr>\n",
       "      <th>1140</th>\n",
       "      <td>0.188422</td>\n",
       "      <td>0.064872</td>\n",
       "      <td>0.170708</td>\n",
       "      <td>0.137340</td>\n",
       "      <td>0.255337</td>\n",
       "      <td>0.117997</td>\n",
       "      <td>1.844067</td>\n",
       "      <td>6.104316</td>\n",
       "      <td>0.902385</td>\n",
       "      <td>0.443069</td>\n",
       "      <td>...</td>\n",
       "      <td>0.188422</td>\n",
       "      <td>0.144218</td>\n",
       "      <td>0.050209</td>\n",
       "      <td>0.277457</td>\n",
       "      <td>0.967797</td>\n",
       "      <td>0.023438</td>\n",
       "      <td>8.460938</td>\n",
       "      <td>8.437500</td>\n",
       "      <td>0.058406</td>\n",
       "      <td>male</td>\n",
       "    </tr>\n",
       "    <tr>\n",
       "      <th>2752</th>\n",
       "      <td>0.196909</td>\n",
       "      <td>0.041960</td>\n",
       "      <td>0.193667</td>\n",
       "      <td>0.174611</td>\n",
       "      <td>0.223222</td>\n",
       "      <td>0.048611</td>\n",
       "      <td>1.820306</td>\n",
       "      <td>6.072823</td>\n",
       "      <td>0.887230</td>\n",
       "      <td>0.329733</td>\n",
       "      <td>...</td>\n",
       "      <td>0.196909</td>\n",
       "      <td>0.173130</td>\n",
       "      <td>0.049793</td>\n",
       "      <td>0.275862</td>\n",
       "      <td>1.056152</td>\n",
       "      <td>0.023438</td>\n",
       "      <td>9.328125</td>\n",
       "      <td>9.304688</td>\n",
       "      <td>0.085408</td>\n",
       "      <td>female</td>\n",
       "    </tr>\n",
       "  </tbody>\n",
       "</table>\n",
       "<p>5 rows × 21 columns</p>\n",
       "</div>"
      ],
      "text/plain": [
       "      meanfreq        sd    median       Q25       Q75       IQR      skew  \\\n",
       "3056  0.205813  0.042650  0.213778  0.198156  0.228381  0.030224  2.679823   \n",
       "3049  0.196159  0.044349  0.202957  0.192696  0.216348  0.023652  3.466938   \n",
       "1287  0.183706  0.064713  0.181856  0.131701  0.246804  0.115103  1.439254   \n",
       "1140  0.188422  0.064872  0.170708  0.137340  0.255337  0.117997  1.844067   \n",
       "2752  0.196909  0.041960  0.193667  0.174611  0.223222  0.048611  1.820306   \n",
       "\n",
       "           kurt    sp.ent       sfm  ...  centroid   meanfun    minfun  \\\n",
       "3056  10.054135  0.849874  0.261366  ...  0.205813  0.206274  0.049505   \n",
       "3049  17.390557  0.851043  0.293635  ...  0.196159  0.198551  0.084746   \n",
       "1287   4.996871  0.933255  0.516996  ...  0.183706  0.130354  0.046921   \n",
       "1140   6.104316  0.902385  0.443069  ...  0.188422  0.144218  0.050209   \n",
       "2752   6.072823  0.887230  0.329733  ...  0.196909  0.173130  0.049793   \n",
       "\n",
       "        maxfun   meandom    mindom    maxdom   dfrange   modindx   label  \n",
       "3056  0.243902  0.451172  0.195312  0.864258  0.668945  0.405283  female  \n",
       "3049  0.232558  0.442708  0.195312  0.820312  0.625000  0.572368  female  \n",
       "1287  0.279070  1.363511  0.023438  6.843750  6.820312  0.155708    male  \n",
       "1140  0.277457  0.967797  0.023438  8.460938  8.437500  0.058406    male  \n",
       "2752  0.275862  1.056152  0.023438  9.328125  9.304688  0.085408  female  \n",
       "\n",
       "[5 rows x 21 columns]"
      ]
     },
     "execution_count": 3,
     "metadata": {},
     "output_type": "execute_result"
    }
   ],
   "source": [
    "df.sample(5)"
   ]
  },
  {
   "cell_type": "code",
   "execution_count": 4,
   "metadata": {},
   "outputs": [
    {
     "name": "stdout",
     "output_type": "stream",
     "text": [
      "<class 'pandas.core.frame.DataFrame'>\n",
      "RangeIndex: 3168 entries, 0 to 3167\n",
      "Data columns (total 21 columns):\n",
      "meanfreq    3168 non-null float64\n",
      "sd          3168 non-null float64\n",
      "median      3168 non-null float64\n",
      "Q25         3168 non-null float64\n",
      "Q75         3168 non-null float64\n",
      "IQR         3168 non-null float64\n",
      "skew        3168 non-null float64\n",
      "kurt        3168 non-null float64\n",
      "sp.ent      3168 non-null float64\n",
      "sfm         3168 non-null float64\n",
      "mode        3168 non-null float64\n",
      "centroid    3168 non-null float64\n",
      "meanfun     3168 non-null float64\n",
      "minfun      3168 non-null float64\n",
      "maxfun      3168 non-null float64\n",
      "meandom     3168 non-null float64\n",
      "mindom      3168 non-null float64\n",
      "maxdom      3168 non-null float64\n",
      "dfrange     3168 non-null float64\n",
      "modindx     3168 non-null float64\n",
      "label       3168 non-null object\n",
      "dtypes: float64(20), object(1)\n",
      "memory usage: 519.8+ KB\n"
     ]
    }
   ],
   "source": [
    "df.info()"
   ]
  },
  {
   "cell_type": "markdown",
   "metadata": {},
   "source": [
    "# Pandas Profiling Report\n"
   ]
  },
  {
   "cell_type": "code",
   "execution_count": null,
   "metadata": {},
   "outputs": [],
   "source": [
    "report = pp.ProfileReport(df)\n",
    "\n",
    "report.to_file(\"report.html\")\n",
    "\n",
    "report"
   ]
  },
  {
   "cell_type": "markdown",
   "metadata": {},
   "source": [
    "# Missingno - Missing Data"
   ]
  },
  {
   "cell_type": "code",
   "execution_count": null,
   "metadata": {},
   "outputs": [],
   "source": [
    "import missingno as msno\n",
    "msno.matrix(df)\n",
    "plt.show()"
   ]
  },
  {
   "cell_type": "markdown",
   "metadata": {},
   "source": [
    "# Seaborn - Heatmap\n",
    "### Relationship between columns\n",
    "* 01 --> Direct proportion\n",
    "* 00 --> No relationship\n",
    "* -1 --> İnverse proportion"
   ]
  },
  {
   "cell_type": "code",
   "execution_count": null,
   "metadata": {},
   "outputs": [],
   "source": [
    "f,ax = plt.subplots(figsize=(25, 15))\n",
    "sns.heatmap(df.corr(), annot=True, linewidths=0.5,linecolor=\"red\", fmt= '.1f',ax=ax)\n",
    "plt.show()"
   ]
  },
  {
   "cell_type": "markdown",
   "metadata": {},
   "source": [
    "# Separating Features and Labels"
   ]
  },
  {
   "cell_type": "code",
   "execution_count": null,
   "metadata": {},
   "outputs": [],
   "source": [
    "X=df.iloc[:, :-1]\n",
    "X.head()"
   ]
  },
  {
   "cell_type": "markdown",
   "metadata": {},
   "source": [
    "# Converting String Value To int Type for Labels\n",
    "### Encode label category\n",
    "* Male -> 1\n",
    "* Female -> 0"
   ]
  },
  {
   "cell_type": "code",
   "execution_count": null,
   "metadata": {},
   "outputs": [],
   "source": [
    "from sklearn.preprocessing import LabelEncoder\n",
    "y=df.iloc[:,-1]\n",
    "\n",
    "encoder = LabelEncoder()\n",
    "y = encoder.fit_transform(y)\n",
    "print(y)"
   ]
  },
  {
   "cell_type": "markdown",
   "metadata": {},
   "source": [
    "# Data Standardisation\n",
    "### Scale the data to be between -1 and 1"
   ]
  },
  {
   "cell_type": "code",
   "execution_count": null,
   "metadata": {},
   "outputs": [],
   "source": [
    "from sklearn.preprocessing import StandardScaler\n",
    "scaler = StandardScaler()\n",
    "scaler.fit(X)\n",
    "X = scaler.transform(X)"
   ]
  },
  {
   "cell_type": "markdown",
   "metadata": {},
   "source": [
    "# Splitting Dataset into Training Set and Testing Set"
   ]
  },
  {
   "cell_type": "code",
   "execution_count": null,
   "metadata": {},
   "outputs": [],
   "source": [
    "from sklearn.model_selection import train_test_split\n",
    "X_train, X_test, y_train, y_test = train_test_split(X, y, test_size=0.2, random_state=1)"
   ]
  },
  {
   "cell_type": "markdown",
   "metadata": {},
   "source": [
    "# Build SVM Model with Default Hyperparameter"
   ]
  },
  {
   "cell_type": "code",
   "execution_count": null,
   "metadata": {},
   "outputs": [],
   "source": [
    "from sklearn.svm import SVC\n",
    "from sklearn import metrics\n",
    "svc=SVC() #Default hyperparameters\n",
    "svc.fit(X_train,y_train)\n",
    "y_pred=svc.predict(X_test)"
   ]
  },
  {
   "cell_type": "markdown",
   "metadata": {},
   "source": [
    "# Accuracy Score"
   ]
  },
  {
   "cell_type": "code",
   "execution_count": null,
   "metadata": {},
   "outputs": [],
   "source": [
    "print('Accuracy Score:')\n",
    "print(metrics.accuracy_score(y_test,y_pred))"
   ]
  },
  {
   "cell_type": "markdown",
   "metadata": {},
   "source": [
    "# Confusion Matrix"
   ]
  },
  {
   "cell_type": "code",
   "execution_count": null,
   "metadata": {},
   "outputs": [],
   "source": [
    "from sklearn.metrics import confusion_matrix\n",
    "cm = confusion_matrix(y_test, y_pred)\n",
    "print(cm)"
   ]
  },
  {
   "cell_type": "markdown",
   "metadata": {},
   "source": [
    "# F1 Score"
   ]
  },
  {
   "cell_type": "code",
   "execution_count": null,
   "metadata": {},
   "outputs": [],
   "source": [
    "from sklearn.metrics import  f1_score\n",
    "f1_score = f1_score(y_test, y_pred)\n",
    "print(\"F1 Score:\")\n",
    "print(f1_score)"
   ]
  },
  {
   "cell_type": "markdown",
   "metadata": {},
   "source": [
    "# Thank You\n",
    "\n",
    "If you have any suggestion or advice or feedback, I will be very appreciated to hear them.\n",
    "### Also there are other visualization kernels\n",
    "* [FIFA 19 Player Data Analysis and Visualization EDA](https://www.kaggle.com/ismailsefa/f-fa-19-player-data-analysis-and-visualization-eda)\n",
    "* [Crimes Data Analysis and Visualzation (EDA)](https://www.kaggle.com/ismailsefa/crimes-data-analysis-and-visualzation-eda)\n",
    "* [Google Play Store Apps Data Analysis (EDA)](https://www.kaggle.com/ismailsefa/google-play-store-apps-data-analysis-eda)\n",
    "* [World Happiness Data Analysis and Visualization](https://www.kaggle.com/ismailsefa/world-happiness-data-analysis-and-visualization)\n",
    "* [Used Cars Data Analysis and Visualization (EDA)](https://www.kaggle.com/ismailsefa/used-cars-data-analysis-and-visualization-eda)\n",
    "* [Gender Recognition by Voice Machine Learning SVM](https://www.kaggle.com/ismailsefa/gender-recognition-by-voice-machine-learning-svm)"
   ]
  }
 ],
 "metadata": {
  "kernelspec": {
   "display_name": "Python 3",
   "language": "python",
   "name": "python3"
  },
  "language_info": {
   "codemirror_mode": {
    "name": "ipython",
    "version": 3
   },
   "file_extension": ".py",
   "mimetype": "text/x-python",
   "name": "python",
   "nbconvert_exporter": "python",
   "pygments_lexer": "ipython3",
   "version": "3.7.3"
  }
 },
 "nbformat": 4,
 "nbformat_minor": 1
}
